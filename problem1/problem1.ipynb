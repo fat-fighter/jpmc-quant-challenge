{
 "cells": [
  {
   "cell_type": "code",
   "execution_count": 1,
   "metadata": {
    "ExecuteTime": {
     "end_time": "2018-09-30T14:00:05.363390Z",
     "start_time": "2018-09-30T14:00:04.919401Z"
    }
   },
   "outputs": [],
   "source": [
    "%matplotlib inline\n",
    "\n",
    "import urllib2\n",
    "import numpy as np\n",
    "\n",
    "from datetime import datetime\n",
    "from matplotlib import pyplot as plt\n",
    "from sklearn.neural_network import MLPRegressor\n",
    "from sklearn.tree import DecisionTreeRegressor"
   ]
  },
  {
   "cell_type": "code",
   "execution_count": 2,
   "metadata": {
    "ExecuteTime": {
     "end_time": "2018-09-30T14:00:05.372579Z",
     "start_time": "2018-09-30T14:00:05.368156Z"
    }
   },
   "outputs": [],
   "source": [
    "tr_url = \"https://s3-ap-southeast-1.amazonaws.com/mettl-arq/questions/codelysis/machine-learning/fare-prediction/train.csv\"\n",
    "ts_url = \"https://s3-ap-southeast-1.amazonaws.com/mettl-arq/questions/codelysis/machine-learning/fare-prediction/test.csv\""
   ]
  },
  {
   "cell_type": "code",
   "execution_count": 3,
   "metadata": {
    "ExecuteTime": {
     "end_time": "2018-09-30T14:00:05.392127Z",
     "start_time": "2018-09-30T14:00:05.376195Z"
    }
   },
   "outputs": [],
   "source": [
    "def read_data(url, split_string=\",\", test=False):\n",
    "    data = urllib2.urlopen(url)\n",
    "    data.readline()\n",
    "    data = data.readlines()\n",
    "    \n",
    "    def process(line):\n",
    "        line = line.strip().split(split_string)\n",
    "        \n",
    "        if test:\n",
    "            return line[1:]\n",
    "        \n",
    "        return line[1:-1], line[-1]\n",
    "        \n",
    "    data = [process(line) for line in data]\n",
    "    \n",
    "    if test:\n",
    "        return data\n",
    "    \n",
    "    X, Y = zip(*data)\n",
    "    \n",
    "    X = list(X)\n",
    "    Y = np.array(Y, dtype=float)\n",
    "    \n",
    "    return X, Y"
   ]
  },
  {
   "cell_type": "code",
   "execution_count": 4,
   "metadata": {
    "ExecuteTime": {
     "end_time": "2018-09-30T14:00:10.240325Z",
     "start_time": "2018-09-30T14:00:05.395908Z"
    }
   },
   "outputs": [],
   "source": [
    "X_tr, Y_tr = read_data(tr_url)\n",
    "X_ts = read_data(ts_url, test=True)"
   ]
  },
  {
   "cell_type": "code",
   "execution_count": 5,
   "metadata": {
    "ExecuteTime": {
     "end_time": "2018-09-30T14:00:10.262597Z",
     "start_time": "2018-09-30T14:00:10.243672Z"
    }
   },
   "outputs": [],
   "source": [
    "cities = [(x[1], x[2]) for x in X_tr]\n",
    "c1,c2 = zip(*cities)\n",
    "cities = c1 + c2\n",
    "cities = list(set(cities))\n",
    "cities.sort()\n",
    "tuple_cities = {}\n",
    "index = 0\n",
    "for i, city_1 in enumerate(cities):\n",
    "    tuple_cities[city_1] = dict()\n",
    "    for j, city_2 in enumerate(cities):\n",
    "        tuple_cities[city_1][city_2] = index\n",
    "        #tuple_cities[city_2 + city_1] = index\n",
    "        index += 1"
   ]
  },
  {
   "cell_type": "code",
   "execution_count": 8,
   "metadata": {
    "ExecuteTime": {
     "end_time": "2018-09-30T14:00:53.499153Z",
     "start_time": "2018-09-30T14:00:53.473108Z"
    }
   },
   "outputs": [],
   "source": [
    "def process_features(X, tuple_cities):\n",
    "    today = datetime.today()\n",
    "    time_0 = datetime.strptime(\"0:0\", \"%H:%M\")\n",
    "\n",
    "    for i in range(len(X)):\n",
    "        x = X[i]\n",
    "\n",
    "        cities_index = tuple_cities[x[1]][x[2]]\n",
    "        cities_one_hot = [0] * (len(cities) * len(cities))\n",
    "        cities_one_hot[cities_index]  = 1\n",
    "\n",
    "        flight_day = datetime.strptime(x[3] + \" \" + x[4], \"%Y-%m-%d %H:%M\")\n",
    "        bookind_day = datetime.strptime(x[5], \"%Y-%m-%d\")\n",
    "        days_diff = (flight_day - bookind_day).days\n",
    "\n",
    "        dob = datetime.strptime(X[i][0], \"%Y-%m-%d\")\n",
    "        age = int(round((today - dob).days / 365.0))\n",
    "\n",
    "        flight_time = datetime.strptime(x[4], \"%H:%M\")\n",
    "        flight_time = (time_0 - flight_time).seconds / 600\n",
    "\n",
    "        bclass = 0 if x[6] == \"Economy\" else 1\n",
    "\n",
    "    #     X[i] = np.array([bclass, cities_index, flight_time, days_diff, age])\n",
    "        X[i] = np.array([bclass, flight_time, days_diff, age] + cities_one_hot)\n",
    "\n",
    "    X = np.array(X)\n",
    "    return X"
   ]
  },
  {
   "cell_type": "code",
   "execution_count": 9,
   "metadata": {
    "ExecuteTime": {
     "end_time": "2018-09-30T14:00:55.104849Z",
     "start_time": "2018-09-30T14:00:54.570801Z"
    }
   },
   "outputs": [],
   "source": [
    "X_tr = process_features(X_tr, tuple_cities)\n",
    "X_ts = process_features(X_ts, tuple_cities)"
   ]
  },
  {
   "cell_type": "code",
   "execution_count": 10,
   "metadata": {
    "ExecuteTime": {
     "end_time": "2018-09-30T14:00:55.756975Z",
     "start_time": "2018-09-30T14:00:55.750180Z"
    }
   },
   "outputs": [],
   "source": [
    "plot = False\n",
    "if plot:\n",
    "    var = X[:, 3]\n",
    "    classes = list(set(var))\n",
    "    Y_tr = []\n",
    "    # fig=plt.figure(figsize=(18, 16), dpi= 240, facecolor='w', edgecolor='k')\n",
    "    for classe in classes:\n",
    "        Y_tr.append(list(Y[var == classe]))\n",
    "    bp = plt.boxplot(Y_tr)\n",
    "    plt.savefig(\"class.png\")\n",
    "    plt.close()"
   ]
  },
  {
   "cell_type": "markdown",
   "metadata": {},
   "source": [
    "### Regression"
   ]
  },
  {
   "cell_type": "code",
   "execution_count": 11,
   "metadata": {
    "ExecuteTime": {
     "end_time": "2018-09-30T14:01:19.177956Z",
     "start_time": "2018-09-30T14:01:02.552837Z"
    }
   },
   "outputs": [
    {
     "data": {
      "text/plain": [
       "0.7690609579210475"
      ]
     },
     "execution_count": 11,
     "metadata": {},
     "output_type": "execute_result"
    }
   ],
   "source": [
    "regressor = MLPRegressor(hidden_layer_sizes=(50, 20, 5), max_iter=10000, tol=0.00001)\n",
    "regressor.fit(X_tr, Y_tr)\n",
    "regressor.score(X_tr, Y_tr)"
   ]
  },
  {
   "cell_type": "code",
   "execution_count": null,
   "metadata": {
    "ExecuteTime": {
     "end_time": "2018-09-30T13:43:54.663069Z",
     "start_time": "2018-09-30T13:43:54.659749Z"
    }
   },
   "outputs": [],
   "source": [
    "# Y_ts = regressor.predict(X_ts)"
   ]
  },
  {
   "cell_type": "code",
   "execution_count": null,
   "metadata": {
    "ExecuteTime": {
     "end_time": "2018-09-30T13:49:33.994871Z",
     "start_time": "2018-09-30T13:49:24.052552Z"
    }
   },
   "outputs": [],
   "source": [
    "regressor_eco = MLPRegressor(hidden_layer_sizes=(10, 20, 5), max_iter=10000, tol=0.00001)\n",
    "eco_indices = (X_tr[:, 0] == 0)\n",
    "regressor_eco.fit(X_tr[eco_indices][:, 1:], Y_tr[eco_indices])\n",
    "regressor_eco.score(X_tr[eco_indices][:, 1:], Y_tr[eco_indices])"
   ]
  },
  {
   "cell_type": "code",
   "execution_count": null,
   "metadata": {
    "ExecuteTime": {
     "end_time": "2018-09-30T13:48:54.199893Z",
     "start_time": "2018-09-30T13:48:47.156053Z"
    }
   },
   "outputs": [],
   "source": [
    "regressor_bus = MLPRegressor(hidden_layer_sizes=(10, 20, 5), max_iter=10000)\n",
    "bus_indices = (X_tr[:, 0] == 1)\n",
    "regressor_bus.fit(X_tr[bus_indices][:, 1:], Y_tr[bus_indices])\n",
    "regressor_bus.score(X_tr[bus_indices][:, 1:], Y_tr[bus_indices])"
   ]
  },
  {
   "cell_type": "code",
   "execution_count": null,
   "metadata": {
    "ExecuteTime": {
     "end_time": "2018-09-30T13:49:39.422768Z",
     "start_time": "2018-09-30T13:49:39.413773Z"
    }
   },
   "outputs": [],
   "source": [
    "Y_ts = np.zeros(len(X_ts))\n",
    "Y_ts[X_ts[:, 0] == 0] = regressor_eco.predict(X_ts[X_ts[:, 0] == 0][:, 1:])\n",
    "Y_ts[X_ts[:, 0] == 1] = regressor_bus.predict(X_ts[X_ts[:, 0] == 1][:, 1:])"
   ]
  },
  {
   "cell_type": "code",
   "execution_count": null,
   "metadata": {
    "ExecuteTime": {
     "end_time": "2018-09-30T13:49:40.041171Z",
     "start_time": "2018-09-30T13:49:40.020251Z"
    }
   },
   "outputs": [],
   "source": [
    "import pyperclip\n",
    "pyperclip.copy(\"return [\" + \", \".join([str(y) for y in Y_ts]) + \"]\")"
   ]
  }
 ],
 "metadata": {
  "hide_input": false,
  "kernelspec": {
   "display_name": "Python 2 (Machine Learning)",
   "language": "python",
   "name": "machine-learning"
  },
  "language_info": {
   "codemirror_mode": {
    "name": "ipython",
    "version": 2
   },
   "file_extension": ".py",
   "mimetype": "text/x-python",
   "name": "python",
   "nbconvert_exporter": "python",
   "pygments_lexer": "ipython2",
   "version": "2.7.15"
  }
 },
 "nbformat": 4,
 "nbformat_minor": 2
}
