{
 "cells": [
  {
   "cell_type": "code",
   "execution_count": 1,
   "metadata": {
    "ExecuteTime": {
     "end_time": "2018-09-30T11:48:42.852886Z",
     "start_time": "2018-09-30T11:48:42.720898Z"
    }
   },
   "outputs": [],
   "source": [
    "import math\n",
    "import numpy as np"
   ]
  },
  {
   "cell_type": "code",
   "execution_count": 2,
   "metadata": {
    "ExecuteTime": {
     "end_time": "2018-09-30T11:48:42.861517Z",
     "start_time": "2018-09-30T11:48:42.856734Z"
    }
   },
   "outputs": [],
   "source": [
    "a = 1\n",
    "theta = 150\n",
    "X0 = 150\n",
    "sigma = 5\n",
    "T = 2"
   ]
  },
  {
   "cell_type": "code",
   "execution_count": 3,
   "metadata": {
    "ExecuteTime": {
     "end_time": "2018-09-30T11:48:42.870001Z",
     "start_time": "2018-09-30T11:48:42.864642Z"
    }
   },
   "outputs": [],
   "source": [
    "n_partitions = 100\n",
    "dsigma = 0.001\n",
    "dt = T / float(n_partitions)"
   ]
  },
  {
   "cell_type": "code",
   "execution_count": 4,
   "metadata": {
    "ExecuteTime": {
     "end_time": "2018-09-30T11:48:42.877689Z",
     "start_time": "2018-09-30T11:48:42.873587Z"
    }
   },
   "outputs": [],
   "source": [
    "sigma_ntrl = sigma\n",
    "sigma_plus = sigma + dsigma\n",
    "sigma_mins = sigma - dsigma"
   ]
  },
  {
   "cell_type": "code",
   "execution_count": 5,
   "metadata": {
    "ExecuteTime": {
     "end_time": "2018-09-30T11:48:46.928788Z",
     "start_time": "2018-09-30T11:48:42.881400Z"
    }
   },
   "outputs": [],
   "source": [
    "values = []\n",
    "for _ in range(10000):\n",
    "    x_ntrl = X0\n",
    "    x_plus = X0\n",
    "    x_mins = X0\n",
    "    Nw = np.random.normal(0, 1, n_partitions)\n",
    "    \n",
    "    for i in range(n_partitions):\n",
    "        try:\n",
    "            sq_xwdt_ntrl = math.sqrt(x_ntrl * dt)\n",
    "            sq_xwdt_plus = math.sqrt(x_plus * dt)\n",
    "            sq_xwdt_mins = math.sqrt(x_mins * dt)\n",
    "        except:\n",
    "            print x, dt\n",
    "            \n",
    "        x_ntrl += a * (theta - x_ntrl) * dt + sigma_ntrl * sq_xwdt_ntrl * Nw[i]\n",
    "        x_plus += a * (theta - x_plus) * dt + sigma_plus * sq_xwdt_plus * Nw[i]\n",
    "        x_mins += a * (theta - x_mins) * dt + sigma_mins * sq_xwdt_mins * Nw[i]\n",
    "        \n",
    "    values.append([x_ntrl, x_plus, x_mins])"
   ]
  },
  {
   "cell_type": "code",
   "execution_count": 6,
   "metadata": {
    "ExecuteTime": {
     "end_time": "2018-09-30T11:48:46.945305Z",
     "start_time": "2018-09-30T11:48:46.932603Z"
    }
   },
   "outputs": [
    {
     "name": "stdout",
     "output_type": "stream",
     "text": [
      "[151.01249869855152, 52.484295091300716, 1.3319134247176123]\n"
     ]
    }
   ],
   "source": [
    "values = np.array(values)\n",
    "print [np.mean(values[:, 0]), np.mean(np.maximum(values[:, 0] - 100, 0)), (np.mean(np.maximum(values[:, 1] - 100, 0)) - np.mean(np.maximum(values[:, 2] - 100, 0))) / (2 * dsigma)]"
   ]
  }
 ],
 "metadata": {
  "hide_input": false,
  "kernelspec": {
   "display_name": "Python 2 (Machine Learning)",
   "language": "python",
   "name": "machine-learning"
  },
  "language_info": {
   "codemirror_mode": {
    "name": "ipython",
    "version": 2
   },
   "file_extension": ".py",
   "mimetype": "text/x-python",
   "name": "python",
   "nbconvert_exporter": "python",
   "pygments_lexer": "ipython2",
   "version": "2.7.15"
  }
 },
 "nbformat": 4,
 "nbformat_minor": 2
}
